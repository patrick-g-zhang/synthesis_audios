{
 "cells": [
  {
   "cell_type": "code",
   "execution_count": 1,
   "metadata": {},
   "outputs": [
    {
     "name": "stdout",
     "output_type": "stream",
     "text": [
      "\n"
     ]
    }
   ],
   "source": [
    "import threading\n",
    "from IPython.display import display\n",
    "import numpy as np\n",
    "from ipywidgets import widgets\n",
    "from ipywidgets.widgets import Label, FloatProgress, FloatSlider\n",
    "from ipywidgets.widgets import Layout, HBox, VBox\n",
    "import bqplot as bq\n",
    "from ipywidgets.widgets import Audio\n",
    "\n",
    "from predict_syn import Predict_Syn"
   ]
  },
  {
   "cell_type": "code",
   "execution_count": 2,
   "metadata": {},
   "outputs": [],
   "source": [
    "ps = Predict_Syn()\n",
    "cmp_mean_vector, cmp_std_vector, test_lin_x, test_lab_x = ps.load_prev_fea()\n",
    "v1_array, _ , f0, mgc, bap = ps.parms_gen(0, 0, 100, test_lin_x, test_lab_x, cmp_mean_vector, cmp_std_vector)\n",
    "contents, intensity = ps.gen_wav(f0, mgc, bap)\n",
    "color = ps.load_casia_color()"
   ]
  },
  {
   "cell_type": "code",
   "execution_count": 3,
   "metadata": {},
   "outputs": [],
   "source": [
    "au = widgets.Audio(value=contents, format=\"wav\",loop=False)\n",
    "# Adding default tooltip to Line Chart\n",
    "x_sc = bq.LinearScale()\n",
    "y_sc = bq.LinearScale(min=20,)\n",
    "x_ax = bq.Axis(label='time', scale=x_sc)\n",
    "y_ax = bq.Axis(label='F0', scale=y_sc, orientation=\"vertical\")\n",
    "x_data = np.arange(len(f0.flatten()))\n",
    "y_data = f0.flatten()\n",
    "def_tt = bq.Tooltip(fields=['y'], formats=['.2f'])\n",
    "line_chart = bq.Scatter(x=x_data, y=y_data, tooltip=def_tt,scales= {'x': x_sc, 'y': y_sc},default_size=5)\n",
    "\n",
    "# Adding default tooltip to Line Chart\n",
    "x_sc2 = bq.LinearScale()\n",
    "y_sc2 = bq.LinearScale()\n",
    "x_ax2 = bq.Axis(label='time', scale=x_sc2)\n",
    "y_ax2 = bq.Axis(label='mgc', scale=y_sc2, orientation=\"vertical\")\n",
    "def_tt2 = bq.Tooltip(fields=['name', 'index'], formats=['', '.2f'])\n",
    "x_data = np.arange(mgc.shape[0])\n",
    "y_data = mgc[:,0:5]\n",
    "line_chart_2 = bq.Lines(x=x_data, y=y_data.T, tooltip=def_tt2, scales= {'x': x_sc2, 'y': y_sc2}, labels=[\"mgc 1\", \"mgc 2\", \"mgc 3\", \"mgc 4\", \"mgc 5\"],display_legend=True )\n",
    "\n",
    "# Adding default tooltip to Line Chart\n",
    "x_sc3 = bq.LinearScale()\n",
    "y_sc3 = bq.LinearScale()\n",
    "x_ax3 = bq.Axis(label='time', scale=x_sc3)\n",
    "y_ax3 = bq.Axis(label='intensity', scale=y_sc3, orientation=\"vertical\")\n",
    "def_tt3 = bq.Tooltip(fields=['y'], formats=['.2f'])\n",
    "y_data = intensity\n",
    "x_data = np.arange(intensity.shape[0])\n",
    "line_chart_3 = bq.Scatter(x=x_data, y=y_data, tooltip=def_tt3,scales= {'x': x_sc3, 'y': y_sc3},default_size=3)\n",
    "\n",
    "\n",
    "fig1 = bq.Figure(layout=Layout(width=\"500px\",height=\"300px\"),\n",
    "                axes=[x_ax, y_ax],\n",
    "                marks=[line_chart])\n",
    "fig2 = bq.Figure(layout=Layout(width=\"500px\",height=\"300px\"),\n",
    "                axes=[x_ax2, y_ax2],\n",
    "                marks=[line_chart_2])\n",
    "fig3 = bq.Figure(layout=Layout(width=\"500px\",height=\"300px\"),\n",
    "                axes=[x_ax3, y_ax3],\n",
    "                marks=[line_chart_3])\n",
    "wA1 = FloatSlider(\n",
    "value=0,min=-2,max=2,step=0.01,description=\"control 1:\",layout=Layout(width='490px',margin='0 0 5px 0')\n",
    ")\n",
    "wA2 = FloatSlider(\n",
    "value=0,min=-2,max=2,step=0.01,description=\"control 2:\",layout=Layout(width='490px',margin='0 0 5px 0')\n",
    ")\n",
    "\n",
    "# load color map\n",
    "color_all = np.zeros(ps.training_num + 1)\n",
    "color_all[0:ps.training_num]=color\n",
    "color_all[-1]=6\n",
    "x_sc4 = bq.LinearScale()\n",
    "y_sc4 = bq.LinearScale()\n",
    "col_line = bq.ColorScale(colors=['green', 'white','black','blue','magenta','yellow', 'red'])\n",
    "\n",
    "x_ax4 = bq.Axis(label='1d', scale=x_sc4)\n",
    "y_ax4 = bq.Axis(label='2d', scale=y_sc4, orientation=\"vertical\")\n",
    "def_tt4 = bq.Tooltip(fields=['x','y'], formats=['.2f','.2f'])\n",
    "x_data = np.zeros(ps.training_num + 1)\n",
    "y_data = np.zeros(ps.training_num + 1)\n",
    "x_data[0:ps.training_num] = v1_array[:,0]\n",
    "y_data[0:ps.training_num] = v1_array[:,1]\n",
    "x_data[-1] = 1.5\n",
    "y_data[-1] = 1.5\n",
    "\n",
    "line_chart_4 = bq.Scatter(x=x_data, y=y_data, tooltip=def_tt4,scales= {'x': x_sc4, 'y': y_sc4,'color':col_line},color=color_all, default_size=3)\n",
    "fig4 = bq.Figure(layout=Layout(width=\"500px\",height=\"500px\"),\n",
    "                axes=[x_ax4, y_ax4],\n",
    "                marks=[line_chart_4])\n",
    "hb1 = HBox(children=(fig1,fig2))\n",
    "hb2 = HBox(children=(fig3,fig4))\n",
    "hb3 = HBox(children=(VBox(children=(wA1,wA2)),au))\n",
    "\n",
    "box = VBox(children=(hb1, hb2,hb3), layout=Layout(border=\"solid spx gray\",width=\"900px\"))"
   ]
  },
  {
   "cell_type": "code",
   "execution_count": 4,
   "metadata": {},
   "outputs": [],
   "source": [
    "def work():\n",
    "    old_w1 = 0\n",
    "    old_w2 = 0\n",
    "    while True:\n",
    "        if old_w1 != wA1.value or old_w2 != wA2.value:\n",
    "            _, _ , f0, mgc, bap = ps.parms_gen( wA1.value, wA2.value, 100, test_lin_x, test_lab_x, cmp_mean_vector, cmp_std_vector)\n",
    "            contents, intensity = ps.gen_wav(f0, mgc, bap)\n",
    "            \n",
    "            line_chart.x = np.arange(len(f0.flatten()))\n",
    "            line_chart.y = f0.flatten()\n",
    "            line_chart_2.y = mgc[:,0:5].T\n",
    "            line_chart_2.x = np.arange(mgc.shape[0])\n",
    "  \n",
    "            line_chart_3.y = intensity\n",
    "            line_chart_3.x = np.arange(intensity.shape[0])\n",
    "            line_chart_4.x = np.append(v1_array[:,0],wA1.value)\n",
    "            line_chart_4.y = np.append(v1_array[:,1],wA2.value)\n",
    "            \n",
    "            au.value = contents\n",
    "            old_w1 = wA1.value\n",
    "            old_w2 = wA2.value\n",
    "        "
   ]
  },
  {
   "cell_type": "code",
   "execution_count": 5,
   "metadata": {},
   "outputs": [
    {
     "data": {
      "application/vnd.jupyter.widget-view+json": {
       "model_id": "c08a156edb95499bb0554af3b9e9c6d6",
       "version_major": 2,
       "version_minor": 0
      },
      "text/plain": [
       "VBox(children=(HBox(children=(Figure(axes=[Axis(label='time', scale=LinearScale(), side='bottom'), Axis(label=…"
      ]
     },
     "metadata": {},
     "output_type": "display_data"
    }
   ],
   "source": [
    "thread = threading.Thread(target=work)\n",
    "display(box)\n",
    "thread.start()"
   ]
  },
  {
   "cell_type": "code",
   "execution_count": null,
   "metadata": {},
   "outputs": [],
   "source": []
  }
 ],
 "metadata": {
  "kernelspec": {
   "display_name": "Python 3",
   "language": "python",
   "name": "python3"
  },
  "language_info": {
   "codemirror_mode": {
    "name": "ipython",
    "version": 3
   },
   "file_extension": ".py",
   "mimetype": "text/x-python",
   "name": "python",
   "nbconvert_exporter": "python",
   "pygments_lexer": "ipython3",
   "version": "3.6.9"
  }
 },
 "nbformat": 4,
 "nbformat_minor": 2
}
