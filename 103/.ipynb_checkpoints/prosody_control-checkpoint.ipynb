{
 "cells": [
  {
   "cell_type": "code",
   "execution_count": 1,
   "metadata": {},
   "outputs": [],
   "source": [
    "import sys\n",
    "sys.path.insert(1, '/home/gyzhang/merlin/src')\n",
    "# import matplotlib.pyplot as plt\n",
    "# %matplotlib inline"
   ]
  },
  {
   "cell_type": "code",
   "execution_count": 2,
   "metadata": {},
   "outputs": [],
   "source": [
    "import numpy as np\n",
    "import configuration\n",
    "import os\n",
    "os.environ['TF_CPP_MIN_LOG_LEVEL'] = '3' \n",
    "import tensorflow as tf\n",
    "tf.logging.set_verbosity(tf.logging.ERROR)"
   ]
  },
  {
   "cell_type": "code",
   "execution_count": 3,
   "metadata": {},
   "outputs": [
    {
     "name": "stdout",
     "output_type": "stream",
     "text": [
      "\n"
     ]
    }
   ],
   "source": [
    "from io_funcs.binary_io import BinaryIOCollection\n",
    "from run_tensorflow_with_merlin_io import TensorflowClass\n",
    "from tensorflow_lib.train import TrainTensorflowModels"
   ]
  },
  {
   "cell_type": "code",
   "execution_count": 4,
   "metadata": {},
   "outputs": [],
   "source": [
    "import threading\n",
    "from IPython.display import display\n",
    "import pysptk\n",
    "import pyworld\n",
    "from scipy.io import wavfile"
   ]
  },
  {
   "cell_type": "code",
   "execution_count": 5,
   "metadata": {},
   "outputs": [],
   "source": [
    "from nnmnkwii.preprocessing import trim_zeros_frames, remove_zeros_frames\n",
    "from nnmnkwii.preprocessing import minmax, meanvar, minmax_scale, scale\n",
    "from nnmnkwii import paramgen\n",
    "from nnmnkwii.io import hts\n",
    "from nnmnkwii.frontend import merlin as fe\n",
    "from nnmnkwii.postfilters import merlin_post_filter"
   ]
  },
  {
   "cell_type": "code",
   "execution_count": 6,
   "metadata": {},
   "outputs": [],
   "source": [
    "from ipywidgets import widgets\n",
    "from ipywidgets.widgets import Label, FloatProgress, FloatSlider\n",
    "from ipywidgets.widgets import Layout, HBox, VBox\n",
    "import bqplot as bq\n",
    "from ipywidgets.widgets import Audio"
   ]
  },
  {
   "cell_type": "markdown",
   "metadata": {},
   "source": [
    "**basic parameters**"
   ]
  },
  {
   "cell_type": "code",
   "execution_count": 11,
   "metadata": {},
   "outputs": [],
   "source": [
    "windows = [\n",
    "    (0, 0, np.array([1.0])),\n",
    "    (1, 1, np.array([-0.5, 0.0, 0.5])),\n",
    "    (1, 1, np.array([1.0, -2.0, 1.0])),\n",
    "]\n",
    "\n",
    "sr = 16000\n",
    "alpha = pysptk.util.mcepalpha(sr)\n",
    "fftlen = 1024\n",
    "frame_period = 5\n",
    "\n",
    "mgc_start_idx = 0\n",
    "lf0_start_idx = 180\n",
    "vuv_start_idx = 183\n",
    "bap_start_idx = 184\n",
    "\n",
    "## configuration of neural network\n",
    "n_in=413\n",
    "hidden_layer_size=[512, 512, 512, 512, 512, 512]\n",
    "n_out=187\n",
    "hidden_layer_type=['tanh', 'tanh', 'tanh', 'tanh', 'tanh', 'tanh']\n",
    "model_dir='/home/gyzhang/merlin/egs/casia/s1/experiments/liuchang/acoustic_model/nnets_model/tensorflow/feed_forward_6_tanh'\n",
    "## path \n",
    "# acoustic mean and var\n",
    "norm_info_file=\"/home/gyzhang/merlin/egs/casia/s1/experiments/liuchang/acoustic_model/inter_module/norm_info__mgc_lf0_vuv_bap_187_MVN.dat\"\n",
    "# linguistic norm features\n",
    "test_norm_path = \"/home/gyzhang/merlin/egs/casia/s1/experiments/liuchang/acoustic_model/inter_module/nn_no_silence_lab_norm_413/liuchanhg-neutral-209.lab\"\n"
   ]
  },
  {
   "cell_type": "markdown",
   "metadata": {},
   "source": [
    "**load acoustic var and mean and linguistic feature**"
   ]
  },
  {
   "cell_type": "code",
   "execution_count": 9,
   "metadata": {},
   "outputs": [],
   "source": [
    "fid = open(norm_info_file, 'rb')\n",
    "cmp_min_max = np.fromfile(fid, dtype=np.float32)\n",
    "fid.close()\n",
    "cmp_min_max = cmp_min_max.reshape((2, -1))\n",
    "cmp_mean_vector = cmp_min_max[0, ]\n",
    "cmp_std_vector  = cmp_min_max[1, ]"
   ]
  },
  {
   "cell_type": "code",
   "execution_count": 10,
   "metadata": {},
   "outputs": [],
   "source": [
    "io_funcs = BinaryIOCollection()\n",
    "inp_features, frame_number = io_funcs.load_binary_file_frame(test_norm_path, 413)\n",
    "test_lin_x, test_lab_x = np.hsplit(inp_features, np.array([-1]))"
   ]
  },
  {
   "cell_type": "code",
   "execution_count": 12,
   "metadata": {},
   "outputs": [],
   "source": [
    "tensorflow_models = TrainTensorflowModels(n_in, hidden_layer_size, n_out,\n",
    "                                                               hidden_layer_type,model_dir)\n",
    "tensorflow_models.define_feedforward_model_utt()"
   ]
  },
  {
   "cell_type": "code",
   "execution_count": 13,
   "metadata": {},
   "outputs": [],
   "source": [
    "with tensorflow_models.graph.as_default():\n",
    "    new_saver = tf.train.Saver()\n",
    "    with tf.Session() as sess:\n",
    "        sess.run(tf.global_variables_initializer())\n",
    "        latest_ckpt = tf.train.latest_checkpoint(tensorflow_models.ckpt_dir, latest_filename=None)\n",
    "        new_saver.restore(sess, latest_ckpt)\n",
    "        v1 = sess.graph.get_tensor_by_name('utt-embeddings:0')\n",
    "        v1_array = sess.run(v1)\n",
    "        v1_array[452] = [-0.4,  0.7 ]\n",
    "        sess.run(tf.assign(v1, v1_array))\n",
    "        v2_array = sess.run(v1)\n",
    "        y_predict = sess.run(tensorflow_models.output_layer, feed_dict={tensorflow_models.input_lin_layer: test_lin_x, tensorflow_models.utt_index_t: test_lab_x, tensorflow_models.is_training_batch: False})"
   ]
  },
  {
   "cell_type": "code",
   "execution_count": 17,
   "metadata": {},
   "outputs": [],
   "source": [
    "norm_features = y_predict * cmp_std_vector + cmp_mean_vector\n",
    "T = norm_features.shape[0]\n",
    "# Split acoustic features\n",
    "mgc = norm_features[:,:lf0_start_idx]\n",
    "lf0 = norm_features[:,lf0_start_idx:vuv_start_idx]\n",
    "vuv = norm_features[:,vuv_start_idx]\n",
    "bap = norm_features[:,bap_start_idx:]"
   ]
  },
  {
   "cell_type": "code",
   "execution_count": 18,
   "metadata": {},
   "outputs": [],
   "source": [
    "cmp_var_vector = cmp_std_vector**2\n",
    "mgc_variances = np.tile(cmp_var_vector[:lf0_start_idx], (T, 1))\n",
    "mgc = paramgen.mlpg(mgc, mgc_variances, windows)\n",
    "lf0_variances = np.tile(cmp_var_vector[lf0_start_idx:vuv_start_idx], (T,1))\n",
    "lf0 = paramgen.mlpg(lf0, lf0_variances, windows)\n",
    "bap_variances = np.tile(cmp_var_vector[bap_start_idx:], (T, 1))\n",
    "bap = paramgen.mlpg(bap, bap_variances, windows)"
   ]
  },
  {
   "cell_type": "code",
   "execution_count": 19,
   "metadata": {},
   "outputs": [],
   "source": [
    "f0 = lf0.copy()\n",
    "f0[vuv < 0.5] = 0\n",
    "f0[np.nonzero(f0)] = np.exp(f0[np.nonzero(f0)])"
   ]
  },
  {
   "cell_type": "code",
   "execution_count": 20,
   "metadata": {},
   "outputs": [],
   "source": [
    "spectrogram = pysptk.mc2sp(mgc, fftlen=fftlen, alpha=alpha)\n",
    "aperiodicity = pyworld.decode_aperiodicity(bap.astype(np.float64), sr, fftlen)\n",
    "   "
   ]
  },
  {
   "cell_type": "code",
   "execution_count": 21,
   "metadata": {},
   "outputs": [],
   "source": [
    "generated_waveform = pyworld.synthesize(f0.flatten().astype(np.float64),\n",
    "                                            spectrogram.astype(np.float64),\n",
    "                                            aperiodicity.astype(np.float64),\n",
    "                                            sr, frame_period)"
   ]
  },
  {
   "cell_type": "code",
   "execution_count": 22,
   "metadata": {},
   "outputs": [],
   "source": [
    "x2 = generated_waveform/np.max(generated_waveform) * 32768\n",
    "x2 = x2.astype(np.int16)\n",
    "wavfile.write(\"gen.wav\", sr, x2)\n",
    "with open(\"gen.wav\", 'rb') as fd:\n",
    "    contents = fd.read()"
   ]
  },
  {
   "cell_type": "code",
   "execution_count": 23,
   "metadata": {},
   "outputs": [],
   "source": [
    "au = widgets.Audio(value=contents, format=\"wav\",loop=False)"
   ]
  },
  {
   "cell_type": "code",
   "execution_count": 24,
   "metadata": {},
   "outputs": [],
   "source": [
    "# Adding default tooltip to Line Chart\n",
    "x_sc = bq.LinearScale()\n",
    "y_sc = bq.LinearScale()\n",
    "x_ax = bq.Axis(label='time', scale=x_sc)\n",
    "y_ax = bq.Axis(label='F0', scale=y_sc, orientation=\"vertical\")\n",
    "x_data = np.arange(len(f0.flatten()))\n",
    "y_data = f0.flatten()\n",
    "def_tt = bq.Tooltip(fields=['y'], formats=['.2f'])\n",
    "line_chart = bq.Scatter(x=x_data, y=y_data, tooltip=def_tt,scales= {'x': x_sc, 'y': y_sc},default_size=5)"
   ]
  },
  {
   "cell_type": "code",
   "execution_count": 25,
   "metadata": {},
   "outputs": [],
   "source": [
    "# Adding default tooltip to Line Chart\n",
    "x_sc2 = bq.LinearScale()\n",
    "y_sc2 = bq.LinearScale()\n",
    "x_ax2 = bq.Axis(label='time', scale=x_sc2)\n",
    "y_ax2 = bq.Axis(label='mgc', scale=y_sc2, orientation=\"vertical\")\n",
    "def_tt2 = bq.Tooltip(fields=['name', 'index'], formats=['', '.2f'])\n",
    "x_data = np.arange(mgc.shape[0])\n",
    "y_data = mgc[:,0:5]\n",
    "line_chart_2 = bq.Lines(x=x_data, y=y_data.T, tooltip=def_tt2, scales= {'x': x_sc2, 'y': y_sc2}, labels=[\"mgc 1\", \"mgc 2\", \"mgc 3\", \"mgc 4\", \"mgc 5\"],display_legend=True )"
   ]
  },
  {
   "cell_type": "code",
   "execution_count": 26,
   "metadata": {},
   "outputs": [],
   "source": [
    "fig1 = bq.Figure(layout=Layout(width=\"700px\",height=\"500px\"),\n",
    "                axes=[x_ax, y_ax],\n",
    "                marks=[line_chart])\n",
    "fig2 = bq.Figure(layout=Layout(width=\"700px\",height=\"500px\"),\n",
    "                axes=[x_ax2, y_ax2],\n",
    "                marks=[line_chart_2])"
   ]
  },
  {
   "cell_type": "code",
   "execution_count": 27,
   "metadata": {},
   "outputs": [],
   "source": [
    "wA1 = FloatSlider(\n",
    "value=0,min=-2,max=2,step=0.01,description=\"control 1:\",layout=Layout(width='490px',margin='0 0 5px 0')\n",
    ")\n",
    "wA2 = FloatSlider(\n",
    "value=0,min=-2,max=2,step=0.01,description=\"control 2:\",layout=Layout(width='490px',margin='0 0 5px 0')\n",
    ")"
   ]
  },
  {
   "cell_type": "code",
   "execution_count": 28,
   "metadata": {},
   "outputs": [],
   "source": [
    "box = VBox(children=(fig1, fig2,wA1,wA2, au), layout=Layout(border=\"solid spx gray\",width=\"900px\"))"
   ]
  },
  {
   "cell_type": "code",
   "execution_count": 29,
   "metadata": {},
   "outputs": [],
   "source": [
    "def parms_gen(z1,z2):\n",
    "    with tensorflow_models.graph.as_default():\n",
    "            new_saver = tf.train.Saver()\n",
    "            with tf.Session() as sess:\n",
    "                sess.run(tf.global_variables_initializer())\n",
    "                latest_ckpt = tf.train.latest_checkpoint(tensorflow_models.ckpt_dir, latest_filename=None)\n",
    "                new_saver.restore(sess, latest_ckpt)\n",
    "                v1 = sess.graph.get_tensor_by_name('utt-embeddings:0')\n",
    "                v1_array = sess.run(v1)\n",
    "                v1_array[452] = [z1,  z2 ]\n",
    "                sess.run(tf.assign(v1, v1_array))\n",
    "                v2_array = sess.run(v1)\n",
    "                y_predict = sess.run(tensorflow_models.output_layer, feed_dict={tensorflow_models.input_lin_layer: test_lin_x, tensorflow_models.utt_index_t: test_lab_x, tensorflow_models.is_training_batch: False})\n",
    "            norm_features = y_predict * cmp_std_vector + cmp_mean_vector\n",
    "            T = norm_features.shape[0]\n",
    "            # Split acoustic features\n",
    "            mgc = norm_features[:,:lf0_start_idx]\n",
    "            lf0 = norm_features[:,lf0_start_idx:vuv_start_idx]\n",
    "            vuv = norm_features[:,vuv_start_idx]\n",
    "            bap = norm_features[:,bap_start_idx:]\n",
    "            cmp_var_vector = cmp_std_vector**2\n",
    "            mgc_variances = np.tile(cmp_var_vector[:lf0_start_idx], (T, 1))\n",
    "            mgc = paramgen.mlpg(mgc, mgc_variances, windows)\n",
    "            lf0_variances = np.tile(cmp_var_vector[lf0_start_idx:vuv_start_idx], (T,1))\n",
    "            lf0 = paramgen.mlpg(lf0, lf0_variances, windows)\n",
    "            bap_variances = np.tile(cmp_var_vector[bap_start_idx:], (T, 1))\n",
    "            bap = paramgen.mlpg(bap, bap_variances, windows)\n",
    "            f0 = lf0.copy()\n",
    "            f0[vuv < 0.5] = 0\n",
    "            f0[np.nonzero(f0)] = np.exp(f0[np.nonzero(f0)])\n",
    "    return f0, mgc, bap"
   ]
  },
  {
   "cell_type": "code",
   "execution_count": 30,
   "metadata": {},
   "outputs": [],
   "source": [
    "def work():\n",
    "    old_w1 = 0\n",
    "    old_w2 = 0\n",
    "    while True:\n",
    "        if old_w1 != wA1.value or old_w2 != wA2.value:\n",
    "            f0, mgc, bap = parms_gen(wA1.value,wA2.value)\n",
    "            line_chart.y = f0.flatten()\n",
    "            line_chart_2.y = mgc[:,0:5].T\n",
    "            spectrogram = pysptk.mc2sp(mgc, fftlen=fftlen, alpha=alpha)\n",
    "            aperiodicity = pyworld.decode_aperiodicity(bap.astype(np.float64), sr, fftlen)\n",
    "            generated_waveform = pyworld.synthesize(f0.flatten().astype(np.float64),\n",
    "                                            spectrogram.astype(np.float64),\n",
    "                                            aperiodicity.astype(np.float64),\n",
    "                                            sr, frame_period)\n",
    "            x2 = generated_waveform/np.max(generated_waveform) * 32768\n",
    "            x2 = x2.astype(np.int16)\n",
    "            wavfile.write(\"gen.wav\", sr, x2)\n",
    "            with open(\"gen.wav\", 'rb') as fd:\n",
    "                contents = fd.read()\n",
    "            au.value = contents\n",
    "            old_w1 = wA1.value\n",
    "            old_w2 = wA2.value\n",
    "        "
   ]
  },
  {
   "cell_type": "code",
   "execution_count": 31,
   "metadata": {},
   "outputs": [
    {
     "data": {
      "application/vnd.jupyter.widget-view+json": {
       "model_id": "a3d43b04af9b4acb8477565a508c8f1c",
       "version_major": 2,
       "version_minor": 0
      },
      "text/plain": [
       "VBox(children=(Figure(axes=[Axis(label='time', scale=LinearScale(), side='bottom'), Axis(label='F0', orientati…"
      ]
     },
     "metadata": {},
     "output_type": "display_data"
    }
   ],
   "source": [
    "thread = threading.Thread(target=work)\n",
    "display(box)\n",
    "thread.start()"
   ]
  },
  {
   "cell_type": "code",
   "execution_count": null,
   "metadata": {},
   "outputs": [],
   "source": []
  }
 ],
 "metadata": {
  "kernelspec": {
   "display_name": "Python 3",
   "language": "python",
   "name": "python3"
  },
  "language_info": {
   "codemirror_mode": {
    "name": "ipython",
    "version": 3
   },
   "file_extension": ".py",
   "mimetype": "text/x-python",
   "name": "python",
   "nbconvert_exporter": "python",
   "pygments_lexer": "ipython3",
   "version": "3.6.9"
  }
 },
 "nbformat": 4,
 "nbformat_minor": 2
}
