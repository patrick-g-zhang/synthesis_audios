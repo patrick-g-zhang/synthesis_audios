{
 "cells": [
  {
   "cell_type": "code",
   "execution_count": 1,
   "metadata": {},
   "outputs": [],
   "source": [
    "import matplotlib.pyplot as plt\n",
    "import kaldi_io\n",
    "import numpy as np\n",
    "from glob import glob \n",
    "import collections\n",
    "from sklearn import (manifold, datasets, decomposition, ensemble,\n",
    "                     discriminant_analysis, random_projection)\n",
    "import re\n",
    "import os"
   ]
  },
  {
   "cell_type": "code",
   "execution_count": 2,
   "metadata": {},
   "outputs": [],
   "source": [
    "from sklearn import metrics\n",
    "from sklearn.cluster import KMeans\n",
    "from sklearn.datasets import load_digits\n",
    "from sklearn.decomposition import PCA\n",
    "from sklearn.preprocessing import scale\n",
    "from sklearn.mixture import GaussianMixture\n",
    "from sklearn.mixture import BayesianGaussianMixture"
   ]
  },
  {
   "cell_type": "code",
   "execution_count": 3,
   "metadata": {},
   "outputs": [],
   "source": [
    "emo_map={'Angry':0, 'Fear':1,'Happy':2, 'Neutral':3,'Sad':4, 'Surprise':5}"
   ]
  },
  {
   "cell_type": "markdown",
   "metadata": {},
   "source": [
    "#### STEP 1：extract features from csv files"
   ]
  },
  {
   "cell_type": "code",
   "execution_count": 232,
   "metadata": {},
   "outputs": [],
   "source": [
    "csv_dir=\"/home/gyzhang/projects/unsupervised_acoustic_clustring/lc_csv\""
   ]
  },
  {
   "cell_type": "code",
   "execution_count": 233,
   "metadata": {},
   "outputs": [],
   "source": [
    "feas_list=[]\n",
    "emo_id_list=[]\n",
    "for csv_path in glob(csv_dir+'/*.csv'):\n",
    "    csv_path_base = os.path.basename(csv_path)\n",
    "    emotion_id = re.split('\\-',csv_path_base)[1]\n",
    "    emo_id_list.append(emo_map[emotion_id])\n",
    "    with open(csv_path,'rb') as file_id:\n",
    "        csv_lines=file_id.readlines()\n",
    "    fea=csv_lines[-1]\n",
    "    num_fea=re.split(\"\\,\",fea.decode('utf-8'))\n",
    "    feas_list.append(num_fea[1:-1])"
   ]
  },
  {
   "cell_type": "markdown",
   "metadata": {},
   "source": [
    "#### STEP 2：train K-means"
   ]
  },
  {
   "cell_type": "code",
   "execution_count": 271,
   "metadata": {},
   "outputs": [],
   "source": [
    "X=np.array(feas_list,dtype=np.float32)\n",
    "y=np.array(emo_id_list,np.int32)\n",
    "# pca = PCA(n_components=100)\n",
    "# X=pca.fit_transform(X)\n",
    "X_norm=scale(X)"
   ]
  },
  {
   "cell_type": "code",
   "execution_count": 273,
   "metadata": {},
   "outputs": [
    {
     "name": "stdout",
     "output_type": "stream",
     "text": [
      "[0.45179485593270347, 0.45360550898068647, 0.43954718233884132, 0.44692915121695759, 0.45441965916021909, 0.46192933831594796, 0.44800637205433991, 0.45931746803627643, 0.45375227811477742, 0.45655573994743193]\n",
      "0.45258575541\n"
     ]
    }
   ],
   "source": [
    "score_list=[]\n",
    "for i in range(10):\n",
    "    est=KMeans(init='k-means++', n_clusters=6, n_init=30)\n",
    "    est.fit(X_norm)\n",
    "    # STEP 3：evaluations\n",
    "    score=metrics.adjusted_rand_score(y, est.labels_)\n",
    "    score_list.append(score)\n",
    "print(score_list)\n",
    "print(np.mean(np.array(score_list)))"
   ]
  },
  {
   "cell_type": "markdown",
   "metadata": {},
   "source": [
    "**STEP 4: Try with GMM**"
   ]
  },
  {
   "cell_type": "code",
   "execution_count": 265,
   "metadata": {},
   "outputs": [
    {
     "name": "stdout",
     "output_type": "stream",
     "text": [
      "[0.064559698897443757]\n",
      "0.0645596988974\n"
     ]
    }
   ],
   "source": [
    "score_list=[]\n",
    "for i in range(1):\n",
    "    estimator = GaussianMixture(n_components=6,\n",
    "              covariance_type='diag', max_iter=30, random_state=117,n_init=10,reg_covar=1e-6)\n",
    "    \n",
    "    estimator.fit(X_norm)\n",
    "    y_train_pred = estimator.predict(X_norm)\n",
    "    # STEP 3：evaluations\n",
    "    score=metrics.adjusted_rand_score(y, y_train_pred)\n",
    "    score_list.append(score)\n",
    "print(score_list)\n",
    "print(np.mean(np.array(score_list)))\n",
    "\n"
   ]
  },
  {
   "cell_type": "markdown",
   "metadata": {},
   "source": [
    "**STEP 4: Try with ivector**"
   ]
  },
  {
   "cell_type": "code",
   "execution_count": null,
   "metadata": {},
   "outputs": [],
   "source": [
    "ivector_scp_path = \"/home/gyzhang/projects/kaldi-trunk/egs/voxceleb/v1/exp/ivectors_train/ivector.scp\""
   ]
  },
  {
   "cell_type": "code",
   "execution_count": null,
   "metadata": {},
   "outputs": [],
   "source": [
    "os.chdir(\"/home/gyzhang/projects/kaldi-trunk/egs/voxceleb/v1/\")"
   ]
  },
  {
   "cell_type": "code",
   "execution_count": null,
   "metadata": {},
   "outputs": [],
   "source": [
    "emo_id_map = {'Angry':1,'Happy':2,\"Neutral\":3,\"Sad\":4,\"Surprise\":5,\"Fear\":6}"
   ]
  },
  {
   "cell_type": "code",
   "execution_count": null,
   "metadata": {},
   "outputs": [],
   "source": [
    "ivectors_list=[]\n",
    "emo_id_list = []"
   ]
  },
  {
   "cell_type": "code",
   "execution_count": null,
   "metadata": {},
   "outputs": [],
   "source": [
    "for (utt_id, ivector) in kaldi_io.read_mat_scp(ivector_scp_path):\n",
    "    emotion_id = re.split('\\-',utt_id)[1]\n",
    "    emo_id_list.append(emo_id_map[emotion_id])\n",
    "    ivectors_list.append(ivector)"
   ]
  },
  {
   "cell_type": "code",
   "execution_count": null,
   "metadata": {},
   "outputs": [],
   "source": [
    "ivectors=np.concatenate(ivectors_list,axis=0)"
   ]
  },
  {
   "cell_type": "code",
   "execution_count": null,
   "metadata": {},
   "outputs": [],
   "source": [
    "emo_id = np.array(emo_id_list)"
   ]
  },
  {
   "cell_type": "code",
   "execution_count": null,
   "metadata": {},
   "outputs": [],
   "source": [
    "emo_id_list=[]\n",
    "feas_v = np.array(feas_list)\n",
    "X_tsne_norm=scale(feas_v)"
   ]
  },
  {
   "cell_type": "code",
   "execution_count": null,
   "metadata": {},
   "outputs": [],
   "source": [
    "#----------------------------------------------------------------------\n",
    "# Scale and visualize the embedding vectors\n",
    "def plot_embedding(X, y,title=None):\n",
    "    x_min, x_max = np.min(X, 0), np.max(X, 0)\n",
    "    X = (X - x_min) / (x_max - x_min)\n",
    "\n",
    "    plt.figure()\n",
    "    ax = plt.subplot(111)\n",
    "    for i in range(X.shape[0]):\n",
    "        plt.text(X[i, 0], X[i, 1], str(y[i]),\n",
    "                 color=plt.cm.Set1(y[i] / 10.),\n",
    "                 fontdict={'weight': 'bold', 'size': 9})\n",
    "#     plt.xticks([]), plt.yticks([])\n",
    "    if title is not None:\n",
    "        plt.title(title)"
   ]
  },
  {
   "cell_type": "code",
   "execution_count": null,
   "metadata": {},
   "outputs": [],
   "source": [
    "print(\"Computing t-SNE embedding\")\n",
    "tsne = manifold.TSNE(n_components=2, init='pca', random_state=0)\n",
    "X_tsne = tsne.fit_transform(ivectors)"
   ]
  },
  {
   "cell_type": "code",
   "execution_count": null,
   "metadata": {},
   "outputs": [],
   "source": [
    "plot_embedding(X_tsne,emo_id)"
   ]
  },
  {
   "cell_type": "code",
   "execution_count": null,
   "metadata": {},
   "outputs": [],
   "source": [
    "metrics.adjusted_rand_score(emo_id, est.labels_)"
   ]
  },
  {
   "cell_type": "code",
   "execution_count": null,
   "metadata": {},
   "outputs": [],
   "source": [
    "est_emo=np.reshape(est.labels_,(6,-1))"
   ]
  },
  {
   "cell_type": "code",
   "execution_count": null,
   "metadata": {},
   "outputs": [],
   "source": [
    "np.where(est_emo[0] == 5)[0].shape[0]"
   ]
  },
  {
   "cell_type": "code",
   "execution_count": null,
   "metadata": {},
   "outputs": [],
   "source": [
    "for i in range(6):\n",
    "    print(np.where(est_emo[5] == i)[0].shape[0])"
   ]
  },
  {
   "cell_type": "code",
   "execution_count": null,
   "metadata": {},
   "outputs": [],
   "source": [
    "print(\"Computing t-SNE embedding\")\n",
    "tsne = manifold.TSNE(n_components=2, init='pca', random_state=0)\n",
    "X_tsne = tsne.fit_transform(feas_v)"
   ]
  },
  {
   "cell_type": "code",
   "execution_count": null,
   "metadata": {},
   "outputs": [],
   "source": [
    "X=X_tsne\n",
    "x_min, x_max = np.min(X, 0), np.max(X, 0)\n",
    "X = (X - x_min) / (x_max - x_min)"
   ]
  },
  {
   "cell_type": "code",
   "execution_count": null,
   "metadata": {},
   "outputs": [],
   "source": [
    "for i in range(1800):\n",
    "    text(X[i, 0], X[i, 1], str(emo_id[i]),\n",
    "                 color=cm.Set1(emo_id[i] / 10.),\n",
    "                 fontdict={'weight': 'bold', 'size': 9})"
   ]
  }
 ],
 "metadata": {
  "kernelspec": {
   "display_name": "Python27",
   "language": "python",
   "name": "python27"
  },
  "language_info": {
   "codemirror_mode": {
    "name": "ipython",
    "version": 2
   },
   "file_extension": ".py",
   "mimetype": "text/x-python",
   "name": "python",
   "nbconvert_exporter": "python",
   "pygments_lexer": "ipython2",
   "version": "2.7.14"
  }
 },
 "nbformat": 4,
 "nbformat_minor": 2
}
