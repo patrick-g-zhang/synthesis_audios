{
 "cells": [
  {
   "cell_type": "code",
   "execution_count": 1,
   "metadata": {},
   "outputs": [
    {
     "name": "stdout",
     "output_type": "stream",
     "text": [
      "\n"
     ]
    },
    {
     "ename": "InternalError",
     "evalue": "Blas GEMM launch failed : a.shape=(186, 414), b.shape=(414, 512), m=186, n=512, k=414\n\t [[Node: feedforward/fully_connected/Tensordot/MatMul = MatMul[T=DT_FLOAT, transpose_a=false, transpose_b=false, _device=\"/job:localhost/replica:0/task:0/device:GPU:0\"](feedforward/fully_connected/Tensordot/Reshape, feedforward/fully_connected/weights/read)]]\n\t [[Node: output_layer/dense/Tensordot/Shape/_167 = _Recv[client_terminated=false, recv_device=\"/job:localhost/replica:0/task:0/device:CPU:0\", send_device=\"/job:localhost/replica:0/task:0/device:GPU:0\", send_device_incarnation=1, tensor_name=\"edge_688_output_layer/dense/Tensordot/Shape\", tensor_type=DT_INT32, _device=\"/job:localhost/replica:0/task:0/device:CPU:0\"]()]]\n\nCaused by op 'feedforward/fully_connected/Tensordot/MatMul', defined at:\n  File \"/home/gyzhang/anaconda3/envs/merlin/lib/python3.6/runpy.py\", line 193, in _run_module_as_main\n    \"__main__\", mod_spec)\n  File \"/home/gyzhang/anaconda3/envs/merlin/lib/python3.6/runpy.py\", line 85, in _run_code\n    exec(code, run_globals)\n  File \"/home/gyzhang/anaconda3/envs/merlin/lib/python3.6/site-packages/ipykernel_launcher.py\", line 16, in <module>\n    app.launch_new_instance()\n  File \"/home/gyzhang/anaconda3/envs/merlin/lib/python3.6/site-packages/traitlets/config/application.py\", line 658, in launch_instance\n    app.start()\n  File \"/home/gyzhang/anaconda3/envs/merlin/lib/python3.6/site-packages/ipykernel/kernelapp.py\", line 563, in start\n    self.io_loop.start()\n  File \"/home/gyzhang/anaconda3/envs/merlin/lib/python3.6/site-packages/tornado/platform/asyncio.py\", line 148, in start\n    self.asyncio_loop.run_forever()\n  File \"/home/gyzhang/anaconda3/envs/merlin/lib/python3.6/asyncio/base_events.py\", line 438, in run_forever\n    self._run_once()\n  File \"/home/gyzhang/anaconda3/envs/merlin/lib/python3.6/asyncio/base_events.py\", line 1451, in _run_once\n    handle._run()\n  File \"/home/gyzhang/anaconda3/envs/merlin/lib/python3.6/asyncio/events.py\", line 145, in _run\n    self._callback(*self._args)\n  File \"/home/gyzhang/anaconda3/envs/merlin/lib/python3.6/site-packages/tornado/ioloop.py\", line 690, in <lambda>\n    lambda f: self._run_callback(functools.partial(callback, future))\n  File \"/home/gyzhang/anaconda3/envs/merlin/lib/python3.6/site-packages/tornado/ioloop.py\", line 743, in _run_callback\n    ret = callback()\n  File \"/home/gyzhang/anaconda3/envs/merlin/lib/python3.6/site-packages/tornado/gen.py\", line 787, in inner\n    self.run()\n  File \"/home/gyzhang/anaconda3/envs/merlin/lib/python3.6/site-packages/tornado/gen.py\", line 748, in run\n    yielded = self.gen.send(value)\n  File \"/home/gyzhang/anaconda3/envs/merlin/lib/python3.6/site-packages/ipykernel/kernelbase.py\", line 365, in process_one\n    yield gen.maybe_future(dispatch(*args))\n  File \"/home/gyzhang/anaconda3/envs/merlin/lib/python3.6/site-packages/tornado/gen.py\", line 209, in wrapper\n    yielded = next(result)\n  File \"/home/gyzhang/anaconda3/envs/merlin/lib/python3.6/site-packages/ipykernel/kernelbase.py\", line 272, in dispatch_shell\n    yield gen.maybe_future(handler(stream, idents, msg))\n  File \"/home/gyzhang/anaconda3/envs/merlin/lib/python3.6/site-packages/tornado/gen.py\", line 209, in wrapper\n    yielded = next(result)\n  File \"/home/gyzhang/anaconda3/envs/merlin/lib/python3.6/site-packages/ipykernel/kernelbase.py\", line 542, in execute_request\n    user_expressions, allow_stdin,\n  File \"/home/gyzhang/anaconda3/envs/merlin/lib/python3.6/site-packages/tornado/gen.py\", line 209, in wrapper\n    yielded = next(result)\n  File \"/home/gyzhang/anaconda3/envs/merlin/lib/python3.6/site-packages/ipykernel/ipkernel.py\", line 294, in do_execute\n    res = shell.run_cell(code, store_history=store_history, silent=silent)\n  File \"/home/gyzhang/anaconda3/envs/merlin/lib/python3.6/site-packages/ipykernel/zmqshell.py\", line 536, in run_cell\n    return super(ZMQInteractiveShell, self).run_cell(*args, **kwargs)\n  File \"/home/gyzhang/anaconda3/envs/merlin/lib/python3.6/site-packages/IPython/core/interactiveshell.py\", line 2855, in run_cell\n    raw_cell, store_history, silent, shell_futures)\n  File \"/home/gyzhang/anaconda3/envs/merlin/lib/python3.6/site-packages/IPython/core/interactiveshell.py\", line 2881, in _run_cell\n    return runner(coro)\n  File \"/home/gyzhang/anaconda3/envs/merlin/lib/python3.6/site-packages/IPython/core/async_helpers.py\", line 68, in _pseudo_sync_runner\n    coro.send(None)\n  File \"/home/gyzhang/anaconda3/envs/merlin/lib/python3.6/site-packages/IPython/core/interactiveshell.py\", line 3058, in run_cell_async\n    interactivity=interactivity, compiler=compiler, result=result)\n  File \"/home/gyzhang/anaconda3/envs/merlin/lib/python3.6/site-packages/IPython/core/interactiveshell.py\", line 3249, in run_ast_nodes\n    if (await self.run_code(code, result,  async_=asy)):\n  File \"/home/gyzhang/anaconda3/envs/merlin/lib/python3.6/site-packages/IPython/core/interactiveshell.py\", line 3326, in run_code\n    exec(code_obj, self.user_global_ns, self.user_ns)\n  File \"<ipython-input-1-4dc08a03e102>\", line 10, in <module>\n    from predict_syn import Predict_Syn\n  File \"<frozen importlib._bootstrap>\", line 971, in _find_and_load\n  File \"<frozen importlib._bootstrap>\", line 955, in _find_and_load_unlocked\n  File \"<frozen importlib._bootstrap>\", line 665, in _load_unlocked\n  File \"<frozen importlib._bootstrap_external>\", line 678, in exec_module\n  File \"<frozen importlib._bootstrap>\", line 219, in _call_with_frames_removed\n  File \"/home/gyzhang/projects/synthesis_audios/1014/predict_syn.py\", line 189, in <module>\n    ps = Predict_Syn()\n  File \"/home/gyzhang/projects/synthesis_audios/1014/predict_syn.py\", line 87, in __init__\n    self.tensorflow_models = self.load_tensorflow_model()\n  File \"/home/gyzhang/projects/synthesis_audios/1014/predict_syn.py\", line 94, in load_tensorflow_model\n    tensorflow_models.define_sequence_model_utt()\n  File \"/home/gyzhang/merlin/src/tensorflow_lib/model.py\", line 118, in decorator\n    output_1 = fully_connected(args[0].input_layer, 512, activation_fn=None)\n  File \"/home/gyzhang/anaconda3/envs/merlin/lib/python3.6/site-packages/tensorflow/contrib/framework/python/ops/arg_scope.py\", line 183, in func_with_args\n    return func(*args, **current_args)\n  File \"/home/gyzhang/anaconda3/envs/merlin/lib/python3.6/site-packages/tensorflow/contrib/layers/python/layers/layers.py\", line 1849, in fully_connected\n    outputs = layer.apply(inputs)\n  File \"/home/gyzhang/anaconda3/envs/merlin/lib/python3.6/site-packages/tensorflow/python/keras/engine/base_layer.py\", line 805, in apply\n    return self.__call__(inputs, *args, **kwargs)\n  File \"/home/gyzhang/anaconda3/envs/merlin/lib/python3.6/site-packages/tensorflow/python/layers/base.py\", line 362, in __call__\n    outputs = super(Layer, self).__call__(inputs, *args, **kwargs)\n  File \"/home/gyzhang/anaconda3/envs/merlin/lib/python3.6/site-packages/tensorflow/python/keras/engine/base_layer.py\", line 736, in __call__\n    outputs = self.call(inputs, *args, **kwargs)\n  File \"/home/gyzhang/anaconda3/envs/merlin/lib/python3.6/site-packages/tensorflow/python/keras/layers/core.py\", line 936, in call\n    outputs = standard_ops.tensordot(inputs, self.kernel, [[rank - 1], [0]])\n  File \"/home/gyzhang/anaconda3/envs/merlin/lib/python3.6/site-packages/tensorflow/python/ops/math_ops.py\", line 2907, in tensordot\n    ab_matmul = matmul(a_reshape, b_reshape)\n  File \"/home/gyzhang/anaconda3/envs/merlin/lib/python3.6/site-packages/tensorflow/python/ops/math_ops.py\", line 2018, in matmul\n    a, b, transpose_a=transpose_a, transpose_b=transpose_b, name=name)\n  File \"/home/gyzhang/anaconda3/envs/merlin/lib/python3.6/site-packages/tensorflow/python/ops/gen_math_ops.py\", line 4456, in mat_mul\n    name=name)\n  File \"/home/gyzhang/anaconda3/envs/merlin/lib/python3.6/site-packages/tensorflow/python/framework/op_def_library.py\", line 787, in _apply_op_helper\n    op_def=op_def)\n  File \"/home/gyzhang/anaconda3/envs/merlin/lib/python3.6/site-packages/tensorflow/python/util/deprecation.py\", line 454, in new_func\n    return func(*args, **kwargs)\n  File \"/home/gyzhang/anaconda3/envs/merlin/lib/python3.6/site-packages/tensorflow/python/framework/ops.py\", line 3155, in create_op\n    op_def=op_def)\n  File \"/home/gyzhang/anaconda3/envs/merlin/lib/python3.6/site-packages/tensorflow/python/framework/ops.py\", line 1717, in __init__\n    self._traceback = tf_stack.extract_stack()\n\nInternalError (see above for traceback): Blas GEMM launch failed : a.shape=(186, 414), b.shape=(414, 512), m=186, n=512, k=414\n\t [[Node: feedforward/fully_connected/Tensordot/MatMul = MatMul[T=DT_FLOAT, transpose_a=false, transpose_b=false, _device=\"/job:localhost/replica:0/task:0/device:GPU:0\"](feedforward/fully_connected/Tensordot/Reshape, feedforward/fully_connected/weights/read)]]\n\t [[Node: output_layer/dense/Tensordot/Shape/_167 = _Recv[client_terminated=false, recv_device=\"/job:localhost/replica:0/task:0/device:CPU:0\", send_device=\"/job:localhost/replica:0/task:0/device:GPU:0\", send_device_incarnation=1, tensor_name=\"edge_688_output_layer/dense/Tensordot/Shape\", tensor_type=DT_INT32, _device=\"/job:localhost/replica:0/task:0/device:CPU:0\"]()]]\n",
     "output_type": "error",
     "traceback": [
      "\u001b[0;31m---------------------------------------------------------------------------\u001b[0m",
      "\u001b[0;31mInternalError\u001b[0m                             Traceback (most recent call last)",
      "\u001b[0;32m~/anaconda3/envs/merlin/lib/python3.6/site-packages/tensorflow/python/client/session.py\u001b[0m in \u001b[0;36m_do_call\u001b[0;34m(self, fn, *args)\u001b[0m\n\u001b[1;32m   1277\u001b[0m     \u001b[0;32mtry\u001b[0m\u001b[0;34m:\u001b[0m\u001b[0;34m\u001b[0m\u001b[0;34m\u001b[0m\u001b[0m\n\u001b[0;32m-> 1278\u001b[0;31m       \u001b[0;32mreturn\u001b[0m \u001b[0mfn\u001b[0m\u001b[0;34m(\u001b[0m\u001b[0;34m*\u001b[0m\u001b[0margs\u001b[0m\u001b[0;34m)\u001b[0m\u001b[0;34m\u001b[0m\u001b[0;34m\u001b[0m\u001b[0m\n\u001b[0m\u001b[1;32m   1279\u001b[0m     \u001b[0;32mexcept\u001b[0m \u001b[0merrors\u001b[0m\u001b[0;34m.\u001b[0m\u001b[0mOpError\u001b[0m \u001b[0;32mas\u001b[0m \u001b[0me\u001b[0m\u001b[0;34m:\u001b[0m\u001b[0;34m\u001b[0m\u001b[0;34m\u001b[0m\u001b[0m\n",
      "\u001b[0;32m~/anaconda3/envs/merlin/lib/python3.6/site-packages/tensorflow/python/client/session.py\u001b[0m in \u001b[0;36m_run_fn\u001b[0;34m(feed_dict, fetch_list, target_list, options, run_metadata)\u001b[0m\n\u001b[1;32m   1262\u001b[0m       return self._call_tf_sessionrun(\n\u001b[0;32m-> 1263\u001b[0;31m           options, feed_dict, fetch_list, target_list, run_metadata)\n\u001b[0m\u001b[1;32m   1264\u001b[0m \u001b[0;34m\u001b[0m\u001b[0m\n",
      "\u001b[0;32m~/anaconda3/envs/merlin/lib/python3.6/site-packages/tensorflow/python/client/session.py\u001b[0m in \u001b[0;36m_call_tf_sessionrun\u001b[0;34m(self, options, feed_dict, fetch_list, target_list, run_metadata)\u001b[0m\n\u001b[1;32m   1349\u001b[0m         \u001b[0mself\u001b[0m\u001b[0;34m.\u001b[0m\u001b[0m_session\u001b[0m\u001b[0;34m,\u001b[0m \u001b[0moptions\u001b[0m\u001b[0;34m,\u001b[0m \u001b[0mfeed_dict\u001b[0m\u001b[0;34m,\u001b[0m \u001b[0mfetch_list\u001b[0m\u001b[0;34m,\u001b[0m \u001b[0mtarget_list\u001b[0m\u001b[0;34m,\u001b[0m\u001b[0;34m\u001b[0m\u001b[0;34m\u001b[0m\u001b[0m\n\u001b[0;32m-> 1350\u001b[0;31m         run_metadata)\n\u001b[0m\u001b[1;32m   1351\u001b[0m \u001b[0;34m\u001b[0m\u001b[0m\n",
      "\u001b[0;31mInternalError\u001b[0m: Blas GEMM launch failed : a.shape=(186, 414), b.shape=(414, 512), m=186, n=512, k=414\n\t [[Node: feedforward/fully_connected/Tensordot/MatMul = MatMul[T=DT_FLOAT, transpose_a=false, transpose_b=false, _device=\"/job:localhost/replica:0/task:0/device:GPU:0\"](feedforward/fully_connected/Tensordot/Reshape, feedforward/fully_connected/weights/read)]]\n\t [[Node: output_layer/dense/Tensordot/Shape/_167 = _Recv[client_terminated=false, recv_device=\"/job:localhost/replica:0/task:0/device:CPU:0\", send_device=\"/job:localhost/replica:0/task:0/device:GPU:0\", send_device_incarnation=1, tensor_name=\"edge_688_output_layer/dense/Tensordot/Shape\", tensor_type=DT_INT32, _device=\"/job:localhost/replica:0/task:0/device:CPU:0\"]()]]",
      "\nDuring handling of the above exception, another exception occurred:\n",
      "\u001b[0;31mInternalError\u001b[0m                             Traceback (most recent call last)",
      "\u001b[0;32m<ipython-input-1-4dc08a03e102>\u001b[0m in \u001b[0;36m<module>\u001b[0;34m\u001b[0m\n\u001b[1;32m      8\u001b[0m \u001b[0;32mfrom\u001b[0m \u001b[0mipywidgets\u001b[0m\u001b[0;34m.\u001b[0m\u001b[0mwidgets\u001b[0m \u001b[0;32mimport\u001b[0m \u001b[0mAudio\u001b[0m\u001b[0;34m\u001b[0m\u001b[0;34m\u001b[0m\u001b[0m\n\u001b[1;32m      9\u001b[0m \u001b[0;34m\u001b[0m\u001b[0m\n\u001b[0;32m---> 10\u001b[0;31m \u001b[0;32mfrom\u001b[0m \u001b[0mpredict_syn\u001b[0m \u001b[0;32mimport\u001b[0m \u001b[0mPredict_Syn\u001b[0m\u001b[0;34m\u001b[0m\u001b[0;34m\u001b[0m\u001b[0m\n\u001b[0m",
      "\u001b[0;32m~/projects/synthesis_audios/1014/predict_syn.py\u001b[0m in \u001b[0;36m<module>\u001b[0;34m\u001b[0m\n\u001b[1;32m    190\u001b[0m \u001b[0mcmp_mean_vector\u001b[0m\u001b[0;34m,\u001b[0m \u001b[0mcmp_std_vector\u001b[0m\u001b[0;34m,\u001b[0m \u001b[0mtest_lin_x\u001b[0m\u001b[0;34m,\u001b[0m \u001b[0mtest_lab_x\u001b[0m \u001b[0;34m=\u001b[0m \u001b[0mps\u001b[0m\u001b[0;34m.\u001b[0m\u001b[0mload_prev_fea\u001b[0m\u001b[0;34m(\u001b[0m\u001b[0;34m)\u001b[0m\u001b[0;34m\u001b[0m\u001b[0;34m\u001b[0m\u001b[0m\n\u001b[1;32m    191\u001b[0m v1_array, _, f0, mgc, bap = ps.parms_gen(\n\u001b[0;32m--> 192\u001b[0;31m     0, 0, 100, test_lin_x, test_lab_x, cmp_mean_vector, cmp_std_vector)\n\u001b[0m\u001b[1;32m    193\u001b[0m \u001b[0mcontents\u001b[0m\u001b[0;34m,\u001b[0m \u001b[0mintensity\u001b[0m \u001b[0;34m=\u001b[0m \u001b[0mps\u001b[0m\u001b[0;34m.\u001b[0m\u001b[0mgen_wav\u001b[0m\u001b[0;34m(\u001b[0m\u001b[0mf0\u001b[0m\u001b[0;34m,\u001b[0m \u001b[0mmgc\u001b[0m\u001b[0;34m,\u001b[0m \u001b[0mbap\u001b[0m\u001b[0;34m)\u001b[0m\u001b[0;34m\u001b[0m\u001b[0;34m\u001b[0m\u001b[0m\n\u001b[1;32m    194\u001b[0m \u001b[0mcolor\u001b[0m \u001b[0;34m=\u001b[0m \u001b[0mps\u001b[0m\u001b[0;34m.\u001b[0m\u001b[0mload_casia_color\u001b[0m\u001b[0;34m(\u001b[0m\u001b[0;34m)\u001b[0m\u001b[0;34m\u001b[0m\u001b[0;34m\u001b[0m\u001b[0m\n",
      "\u001b[0;32m~/projects/synthesis_audios/1014/predict_syn.py\u001b[0m in \u001b[0;36mparms_gen\u001b[0;34m(self, z1, z2, embed_index, test_lin_x, test_lab_x, cmp_mean_vector, cmp_std_vector)\u001b[0m\n\u001b[1;32m    136\u001b[0m     \u001b[0;32mdef\u001b[0m \u001b[0mparms_gen\u001b[0m\u001b[0;34m(\u001b[0m\u001b[0mself\u001b[0m\u001b[0;34m,\u001b[0m \u001b[0mz1\u001b[0m\u001b[0;34m,\u001b[0m \u001b[0mz2\u001b[0m\u001b[0;34m,\u001b[0m \u001b[0membed_index\u001b[0m\u001b[0;34m,\u001b[0m \u001b[0mtest_lin_x\u001b[0m\u001b[0;34m,\u001b[0m \u001b[0mtest_lab_x\u001b[0m\u001b[0;34m,\u001b[0m \u001b[0mcmp_mean_vector\u001b[0m\u001b[0;34m,\u001b[0m \u001b[0mcmp_std_vector\u001b[0m\u001b[0;34m)\u001b[0m\u001b[0;34m:\u001b[0m\u001b[0;34m\u001b[0m\u001b[0;34m\u001b[0m\u001b[0m\n\u001b[1;32m    137\u001b[0m         v1_array, y_predict = self.inference(\n\u001b[0;32m--> 138\u001b[0;31m             z1, z2, test_lin_x, test_lab_x, embed_index)\n\u001b[0m\u001b[1;32m    139\u001b[0m         \u001b[0;32mif\u001b[0m \u001b[0mself\u001b[0m\u001b[0;34m.\u001b[0m\u001b[0msequence_model\u001b[0m\u001b[0;34m:\u001b[0m\u001b[0;34m\u001b[0m\u001b[0;34m\u001b[0m\u001b[0m\n\u001b[1;32m    140\u001b[0m             \u001b[0my_predict\u001b[0m \u001b[0;34m=\u001b[0m \u001b[0mnp\u001b[0m\u001b[0;34m.\u001b[0m\u001b[0msqueeze\u001b[0m\u001b[0;34m(\u001b[0m\u001b[0my_predict\u001b[0m\u001b[0;34m,\u001b[0m \u001b[0maxis\u001b[0m\u001b[0;34m=\u001b[0m\u001b[0;36m0\u001b[0m\u001b[0;34m)\u001b[0m\u001b[0;34m\u001b[0m\u001b[0;34m\u001b[0m\u001b[0m\n",
      "\u001b[0;32m~/projects/synthesis_audios/1014/predict_syn.py\u001b[0m in \u001b[0;36minference\u001b[0;34m(self, z1, z2, test_lin_x, test_lab_x, embed_index)\u001b[0m\n\u001b[1;32m    131\u001b[0m                 \u001b[0;32mif\u001b[0m \u001b[0mself\u001b[0m\u001b[0;34m.\u001b[0m\u001b[0msequence_model\u001b[0m\u001b[0;34m:\u001b[0m\u001b[0;34m\u001b[0m\u001b[0;34m\u001b[0m\u001b[0m\n\u001b[1;32m    132\u001b[0m                     y_predict = sess.run(self.tensorflow_models.output_layer, feed_dict={\n\u001b[0;32m--> 133\u001b[0;31m                         self.tensorflow_models.input_lin_layer: test_lin_x, self.tensorflow_models.input_lab_layer: test_lab_x, self.tensorflow_models.utt_length: [test_lin_x.shape[1]], self.tensorflow_models.is_training_batch: False})\n\u001b[0m\u001b[1;32m    134\u001b[0m             \u001b[0;32mreturn\u001b[0m \u001b[0mv1_array\u001b[0m\u001b[0;34m,\u001b[0m \u001b[0my_predict\u001b[0m\u001b[0;34m\u001b[0m\u001b[0;34m\u001b[0m\u001b[0m\n\u001b[1;32m    135\u001b[0m \u001b[0;34m\u001b[0m\u001b[0m\n",
      "\u001b[0;32m~/anaconda3/envs/merlin/lib/python3.6/site-packages/tensorflow/python/client/session.py\u001b[0m in \u001b[0;36mrun\u001b[0;34m(self, fetches, feed_dict, options, run_metadata)\u001b[0m\n\u001b[1;32m    875\u001b[0m     \u001b[0;32mtry\u001b[0m\u001b[0;34m:\u001b[0m\u001b[0;34m\u001b[0m\u001b[0;34m\u001b[0m\u001b[0m\n\u001b[1;32m    876\u001b[0m       result = self._run(None, fetches, feed_dict, options_ptr,\n\u001b[0;32m--> 877\u001b[0;31m                          run_metadata_ptr)\n\u001b[0m\u001b[1;32m    878\u001b[0m       \u001b[0;32mif\u001b[0m \u001b[0mrun_metadata\u001b[0m\u001b[0;34m:\u001b[0m\u001b[0;34m\u001b[0m\u001b[0;34m\u001b[0m\u001b[0m\n\u001b[1;32m    879\u001b[0m         \u001b[0mproto_data\u001b[0m \u001b[0;34m=\u001b[0m \u001b[0mtf_session\u001b[0m\u001b[0;34m.\u001b[0m\u001b[0mTF_GetBuffer\u001b[0m\u001b[0;34m(\u001b[0m\u001b[0mrun_metadata_ptr\u001b[0m\u001b[0;34m)\u001b[0m\u001b[0;34m\u001b[0m\u001b[0;34m\u001b[0m\u001b[0m\n",
      "\u001b[0;32m~/anaconda3/envs/merlin/lib/python3.6/site-packages/tensorflow/python/client/session.py\u001b[0m in \u001b[0;36m_run\u001b[0;34m(self, handle, fetches, feed_dict, options, run_metadata)\u001b[0m\n\u001b[1;32m   1098\u001b[0m     \u001b[0;32mif\u001b[0m \u001b[0mfinal_fetches\u001b[0m \u001b[0;32mor\u001b[0m \u001b[0mfinal_targets\u001b[0m \u001b[0;32mor\u001b[0m \u001b[0;34m(\u001b[0m\u001b[0mhandle\u001b[0m \u001b[0;32mand\u001b[0m \u001b[0mfeed_dict_tensor\u001b[0m\u001b[0;34m)\u001b[0m\u001b[0;34m:\u001b[0m\u001b[0;34m\u001b[0m\u001b[0;34m\u001b[0m\u001b[0m\n\u001b[1;32m   1099\u001b[0m       results = self._do_run(handle, final_targets, final_fetches,\n\u001b[0;32m-> 1100\u001b[0;31m                              feed_dict_tensor, options, run_metadata)\n\u001b[0m\u001b[1;32m   1101\u001b[0m     \u001b[0;32melse\u001b[0m\u001b[0;34m:\u001b[0m\u001b[0;34m\u001b[0m\u001b[0;34m\u001b[0m\u001b[0m\n\u001b[1;32m   1102\u001b[0m       \u001b[0mresults\u001b[0m \u001b[0;34m=\u001b[0m \u001b[0;34m[\u001b[0m\u001b[0;34m]\u001b[0m\u001b[0;34m\u001b[0m\u001b[0;34m\u001b[0m\u001b[0m\n",
      "\u001b[0;32m~/anaconda3/envs/merlin/lib/python3.6/site-packages/tensorflow/python/client/session.py\u001b[0m in \u001b[0;36m_do_run\u001b[0;34m(self, handle, target_list, fetch_list, feed_dict, options, run_metadata)\u001b[0m\n\u001b[1;32m   1270\u001b[0m     \u001b[0;32mif\u001b[0m \u001b[0mhandle\u001b[0m \u001b[0;32mis\u001b[0m \u001b[0;32mNone\u001b[0m\u001b[0;34m:\u001b[0m\u001b[0;34m\u001b[0m\u001b[0;34m\u001b[0m\u001b[0m\n\u001b[1;32m   1271\u001b[0m       return self._do_call(_run_fn, feeds, fetches, targets, options,\n\u001b[0;32m-> 1272\u001b[0;31m                            run_metadata)\n\u001b[0m\u001b[1;32m   1273\u001b[0m     \u001b[0;32melse\u001b[0m\u001b[0;34m:\u001b[0m\u001b[0;34m\u001b[0m\u001b[0;34m\u001b[0m\u001b[0m\n\u001b[1;32m   1274\u001b[0m       \u001b[0;32mreturn\u001b[0m \u001b[0mself\u001b[0m\u001b[0;34m.\u001b[0m\u001b[0m_do_call\u001b[0m\u001b[0;34m(\u001b[0m\u001b[0m_prun_fn\u001b[0m\u001b[0;34m,\u001b[0m \u001b[0mhandle\u001b[0m\u001b[0;34m,\u001b[0m \u001b[0mfeeds\u001b[0m\u001b[0;34m,\u001b[0m \u001b[0mfetches\u001b[0m\u001b[0;34m)\u001b[0m\u001b[0;34m\u001b[0m\u001b[0;34m\u001b[0m\u001b[0m\n",
      "\u001b[0;32m~/anaconda3/envs/merlin/lib/python3.6/site-packages/tensorflow/python/client/session.py\u001b[0m in \u001b[0;36m_do_call\u001b[0;34m(self, fn, *args)\u001b[0m\n\u001b[1;32m   1289\u001b[0m         \u001b[0;32mexcept\u001b[0m \u001b[0mKeyError\u001b[0m\u001b[0;34m:\u001b[0m\u001b[0;34m\u001b[0m\u001b[0;34m\u001b[0m\u001b[0m\n\u001b[1;32m   1290\u001b[0m           \u001b[0;32mpass\u001b[0m\u001b[0;34m\u001b[0m\u001b[0;34m\u001b[0m\u001b[0m\n\u001b[0;32m-> 1291\u001b[0;31m       \u001b[0;32mraise\u001b[0m \u001b[0mtype\u001b[0m\u001b[0;34m(\u001b[0m\u001b[0me\u001b[0m\u001b[0;34m)\u001b[0m\u001b[0;34m(\u001b[0m\u001b[0mnode_def\u001b[0m\u001b[0;34m,\u001b[0m \u001b[0mop\u001b[0m\u001b[0;34m,\u001b[0m \u001b[0mmessage\u001b[0m\u001b[0;34m)\u001b[0m\u001b[0;34m\u001b[0m\u001b[0;34m\u001b[0m\u001b[0m\n\u001b[0m\u001b[1;32m   1292\u001b[0m \u001b[0;34m\u001b[0m\u001b[0m\n\u001b[1;32m   1293\u001b[0m   \u001b[0;32mdef\u001b[0m \u001b[0m_extend_graph\u001b[0m\u001b[0;34m(\u001b[0m\u001b[0mself\u001b[0m\u001b[0;34m)\u001b[0m\u001b[0;34m:\u001b[0m\u001b[0;34m\u001b[0m\u001b[0;34m\u001b[0m\u001b[0m\n",
      "\u001b[0;31mInternalError\u001b[0m: Blas GEMM launch failed : a.shape=(186, 414), b.shape=(414, 512), m=186, n=512, k=414\n\t [[Node: feedforward/fully_connected/Tensordot/MatMul = MatMul[T=DT_FLOAT, transpose_a=false, transpose_b=false, _device=\"/job:localhost/replica:0/task:0/device:GPU:0\"](feedforward/fully_connected/Tensordot/Reshape, feedforward/fully_connected/weights/read)]]\n\t [[Node: output_layer/dense/Tensordot/Shape/_167 = _Recv[client_terminated=false, recv_device=\"/job:localhost/replica:0/task:0/device:CPU:0\", send_device=\"/job:localhost/replica:0/task:0/device:GPU:0\", send_device_incarnation=1, tensor_name=\"edge_688_output_layer/dense/Tensordot/Shape\", tensor_type=DT_INT32, _device=\"/job:localhost/replica:0/task:0/device:CPU:0\"]()]]\n\nCaused by op 'feedforward/fully_connected/Tensordot/MatMul', defined at:\n  File \"/home/gyzhang/anaconda3/envs/merlin/lib/python3.6/runpy.py\", line 193, in _run_module_as_main\n    \"__main__\", mod_spec)\n  File \"/home/gyzhang/anaconda3/envs/merlin/lib/python3.6/runpy.py\", line 85, in _run_code\n    exec(code, run_globals)\n  File \"/home/gyzhang/anaconda3/envs/merlin/lib/python3.6/site-packages/ipykernel_launcher.py\", line 16, in <module>\n    app.launch_new_instance()\n  File \"/home/gyzhang/anaconda3/envs/merlin/lib/python3.6/site-packages/traitlets/config/application.py\", line 658, in launch_instance\n    app.start()\n  File \"/home/gyzhang/anaconda3/envs/merlin/lib/python3.6/site-packages/ipykernel/kernelapp.py\", line 563, in start\n    self.io_loop.start()\n  File \"/home/gyzhang/anaconda3/envs/merlin/lib/python3.6/site-packages/tornado/platform/asyncio.py\", line 148, in start\n    self.asyncio_loop.run_forever()\n  File \"/home/gyzhang/anaconda3/envs/merlin/lib/python3.6/asyncio/base_events.py\", line 438, in run_forever\n    self._run_once()\n  File \"/home/gyzhang/anaconda3/envs/merlin/lib/python3.6/asyncio/base_events.py\", line 1451, in _run_once\n    handle._run()\n  File \"/home/gyzhang/anaconda3/envs/merlin/lib/python3.6/asyncio/events.py\", line 145, in _run\n    self._callback(*self._args)\n  File \"/home/gyzhang/anaconda3/envs/merlin/lib/python3.6/site-packages/tornado/ioloop.py\", line 690, in <lambda>\n    lambda f: self._run_callback(functools.partial(callback, future))\n  File \"/home/gyzhang/anaconda3/envs/merlin/lib/python3.6/site-packages/tornado/ioloop.py\", line 743, in _run_callback\n    ret = callback()\n  File \"/home/gyzhang/anaconda3/envs/merlin/lib/python3.6/site-packages/tornado/gen.py\", line 787, in inner\n    self.run()\n  File \"/home/gyzhang/anaconda3/envs/merlin/lib/python3.6/site-packages/tornado/gen.py\", line 748, in run\n    yielded = self.gen.send(value)\n  File \"/home/gyzhang/anaconda3/envs/merlin/lib/python3.6/site-packages/ipykernel/kernelbase.py\", line 365, in process_one\n    yield gen.maybe_future(dispatch(*args))\n  File \"/home/gyzhang/anaconda3/envs/merlin/lib/python3.6/site-packages/tornado/gen.py\", line 209, in wrapper\n    yielded = next(result)\n  File \"/home/gyzhang/anaconda3/envs/merlin/lib/python3.6/site-packages/ipykernel/kernelbase.py\", line 272, in dispatch_shell\n    yield gen.maybe_future(handler(stream, idents, msg))\n  File \"/home/gyzhang/anaconda3/envs/merlin/lib/python3.6/site-packages/tornado/gen.py\", line 209, in wrapper\n    yielded = next(result)\n  File \"/home/gyzhang/anaconda3/envs/merlin/lib/python3.6/site-packages/ipykernel/kernelbase.py\", line 542, in execute_request\n    user_expressions, allow_stdin,\n  File \"/home/gyzhang/anaconda3/envs/merlin/lib/python3.6/site-packages/tornado/gen.py\", line 209, in wrapper\n    yielded = next(result)\n  File \"/home/gyzhang/anaconda3/envs/merlin/lib/python3.6/site-packages/ipykernel/ipkernel.py\", line 294, in do_execute\n    res = shell.run_cell(code, store_history=store_history, silent=silent)\n  File \"/home/gyzhang/anaconda3/envs/merlin/lib/python3.6/site-packages/ipykernel/zmqshell.py\", line 536, in run_cell\n    return super(ZMQInteractiveShell, self).run_cell(*args, **kwargs)\n  File \"/home/gyzhang/anaconda3/envs/merlin/lib/python3.6/site-packages/IPython/core/interactiveshell.py\", line 2855, in run_cell\n    raw_cell, store_history, silent, shell_futures)\n  File \"/home/gyzhang/anaconda3/envs/merlin/lib/python3.6/site-packages/IPython/core/interactiveshell.py\", line 2881, in _run_cell\n    return runner(coro)\n  File \"/home/gyzhang/anaconda3/envs/merlin/lib/python3.6/site-packages/IPython/core/async_helpers.py\", line 68, in _pseudo_sync_runner\n    coro.send(None)\n  File \"/home/gyzhang/anaconda3/envs/merlin/lib/python3.6/site-packages/IPython/core/interactiveshell.py\", line 3058, in run_cell_async\n    interactivity=interactivity, compiler=compiler, result=result)\n  File \"/home/gyzhang/anaconda3/envs/merlin/lib/python3.6/site-packages/IPython/core/interactiveshell.py\", line 3249, in run_ast_nodes\n    if (await self.run_code(code, result,  async_=asy)):\n  File \"/home/gyzhang/anaconda3/envs/merlin/lib/python3.6/site-packages/IPython/core/interactiveshell.py\", line 3326, in run_code\n    exec(code_obj, self.user_global_ns, self.user_ns)\n  File \"<ipython-input-1-4dc08a03e102>\", line 10, in <module>\n    from predict_syn import Predict_Syn\n  File \"<frozen importlib._bootstrap>\", line 971, in _find_and_load\n  File \"<frozen importlib._bootstrap>\", line 955, in _find_and_load_unlocked\n  File \"<frozen importlib._bootstrap>\", line 665, in _load_unlocked\n  File \"<frozen importlib._bootstrap_external>\", line 678, in exec_module\n  File \"<frozen importlib._bootstrap>\", line 219, in _call_with_frames_removed\n  File \"/home/gyzhang/projects/synthesis_audios/1014/predict_syn.py\", line 189, in <module>\n    ps = Predict_Syn()\n  File \"/home/gyzhang/projects/synthesis_audios/1014/predict_syn.py\", line 87, in __init__\n    self.tensorflow_models = self.load_tensorflow_model()\n  File \"/home/gyzhang/projects/synthesis_audios/1014/predict_syn.py\", line 94, in load_tensorflow_model\n    tensorflow_models.define_sequence_model_utt()\n  File \"/home/gyzhang/merlin/src/tensorflow_lib/model.py\", line 118, in decorator\n    output_1 = fully_connected(args[0].input_layer, 512, activation_fn=None)\n  File \"/home/gyzhang/anaconda3/envs/merlin/lib/python3.6/site-packages/tensorflow/contrib/framework/python/ops/arg_scope.py\", line 183, in func_with_args\n    return func(*args, **current_args)\n  File \"/home/gyzhang/anaconda3/envs/merlin/lib/python3.6/site-packages/tensorflow/contrib/layers/python/layers/layers.py\", line 1849, in fully_connected\n    outputs = layer.apply(inputs)\n  File \"/home/gyzhang/anaconda3/envs/merlin/lib/python3.6/site-packages/tensorflow/python/keras/engine/base_layer.py\", line 805, in apply\n    return self.__call__(inputs, *args, **kwargs)\n  File \"/home/gyzhang/anaconda3/envs/merlin/lib/python3.6/site-packages/tensorflow/python/layers/base.py\", line 362, in __call__\n    outputs = super(Layer, self).__call__(inputs, *args, **kwargs)\n  File \"/home/gyzhang/anaconda3/envs/merlin/lib/python3.6/site-packages/tensorflow/python/keras/engine/base_layer.py\", line 736, in __call__\n    outputs = self.call(inputs, *args, **kwargs)\n  File \"/home/gyzhang/anaconda3/envs/merlin/lib/python3.6/site-packages/tensorflow/python/keras/layers/core.py\", line 936, in call\n    outputs = standard_ops.tensordot(inputs, self.kernel, [[rank - 1], [0]])\n  File \"/home/gyzhang/anaconda3/envs/merlin/lib/python3.6/site-packages/tensorflow/python/ops/math_ops.py\", line 2907, in tensordot\n    ab_matmul = matmul(a_reshape, b_reshape)\n  File \"/home/gyzhang/anaconda3/envs/merlin/lib/python3.6/site-packages/tensorflow/python/ops/math_ops.py\", line 2018, in matmul\n    a, b, transpose_a=transpose_a, transpose_b=transpose_b, name=name)\n  File \"/home/gyzhang/anaconda3/envs/merlin/lib/python3.6/site-packages/tensorflow/python/ops/gen_math_ops.py\", line 4456, in mat_mul\n    name=name)\n  File \"/home/gyzhang/anaconda3/envs/merlin/lib/python3.6/site-packages/tensorflow/python/framework/op_def_library.py\", line 787, in _apply_op_helper\n    op_def=op_def)\n  File \"/home/gyzhang/anaconda3/envs/merlin/lib/python3.6/site-packages/tensorflow/python/util/deprecation.py\", line 454, in new_func\n    return func(*args, **kwargs)\n  File \"/home/gyzhang/anaconda3/envs/merlin/lib/python3.6/site-packages/tensorflow/python/framework/ops.py\", line 3155, in create_op\n    op_def=op_def)\n  File \"/home/gyzhang/anaconda3/envs/merlin/lib/python3.6/site-packages/tensorflow/python/framework/ops.py\", line 1717, in __init__\n    self._traceback = tf_stack.extract_stack()\n\nInternalError (see above for traceback): Blas GEMM launch failed : a.shape=(186, 414), b.shape=(414, 512), m=186, n=512, k=414\n\t [[Node: feedforward/fully_connected/Tensordot/MatMul = MatMul[T=DT_FLOAT, transpose_a=false, transpose_b=false, _device=\"/job:localhost/replica:0/task:0/device:GPU:0\"](feedforward/fully_connected/Tensordot/Reshape, feedforward/fully_connected/weights/read)]]\n\t [[Node: output_layer/dense/Tensordot/Shape/_167 = _Recv[client_terminated=false, recv_device=\"/job:localhost/replica:0/task:0/device:CPU:0\", send_device=\"/job:localhost/replica:0/task:0/device:GPU:0\", send_device_incarnation=1, tensor_name=\"edge_688_output_layer/dense/Tensordot/Shape\", tensor_type=DT_INT32, _device=\"/job:localhost/replica:0/task:0/device:CPU:0\"]()]]\n"
     ]
    }
   ],
   "source": [
    "import threading\n",
    "from IPython.display import display\n",
    "import numpy as np\n",
    "from ipywidgets import widgets\n",
    "from ipywidgets.widgets import Label, FloatProgress, FloatSlider\n",
    "from ipywidgets.widgets import Layout, HBox, VBox\n",
    "import bqplot as bq\n",
    "from ipywidgets.widgets import Audio\n",
    "\n",
    "from predict_syn import Predict_Syn"
   ]
  },
  {
   "cell_type": "code",
   "execution_count": null,
   "metadata": {},
   "outputs": [],
   "source": [
    "ps = Predict_Syn()\n",
    "cmp_mean_vector, cmp_std_vector, test_lin_x, test_lab_x = ps.load_prev_fea()\n",
    "v1_array, _ , f0, mgc, bap = ps.parms_gen(0, 0, 100, test_lin_x, test_lab_x, cmp_mean_vector, cmp_std_vector)\n",
    "contents, intensity = ps.gen_wav(f0, mgc, bap)"
   ]
  },
  {
   "cell_type": "code",
   "execution_count": 3,
   "metadata": {},
   "outputs": [],
   "source": [
    "au = widgets.Audio(value=contents, format=\"wav\",loop=False)\n",
    "# Adding default tooltip to Line Chart\n",
    "x_sc = bq.LinearScale()\n",
    "y_sc = bq.LinearScale(min=20,)\n",
    "x_ax = bq.Axis(label='time', scale=x_sc)\n",
    "y_ax = bq.Axis(label='F0', scale=y_sc, orientation=\"vertical\")\n",
    "x_data = np.arange(len(f0.flatten()))\n",
    "y_data = f0.flatten()\n",
    "def_tt = bq.Tooltip(fields=['y'], formats=['.2f'])\n",
    "line_chart = bq.Scatter(x=x_data, y=y_data, tooltip=def_tt,scales= {'x': x_sc, 'y': y_sc},default_size=5)\n",
    "\n",
    "# Adding default tooltip to Line Chart\n",
    "x_sc2 = bq.LinearScale()\n",
    "y_sc2 = bq.LinearScale()\n",
    "x_ax2 = bq.Axis(label='time', scale=x_sc2)\n",
    "y_ax2 = bq.Axis(label='mgc', scale=y_sc2, orientation=\"vertical\")\n",
    "def_tt2 = bq.Tooltip(fields=['name', 'index'], formats=['', '.2f'])\n",
    "x_data = np.arange(mgc.shape[0])\n",
    "y_data = mgc[:,0:5]\n",
    "line_chart_2 = bq.Lines(x=x_data, y=y_data.T, tooltip=def_tt2, scales= {'x': x_sc2, 'y': y_sc2}, labels=[\"mgc 1\", \"mgc 2\", \"mgc 3\", \"mgc 4\", \"mgc 5\"],display_legend=True )\n",
    "\n",
    "# Adding default tooltip to Line Chart\n",
    "x_sc3 = bq.LinearScale()\n",
    "y_sc3 = bq.LinearScale()\n",
    "x_ax3 = bq.Axis(label='time', scale=x_sc3)\n",
    "y_ax3 = bq.Axis(label='intensity', scale=y_sc3, orientation=\"vertical\")\n",
    "def_tt3 = bq.Tooltip(fields=['y'], formats=['.2f'])\n",
    "y_data = intensity\n",
    "x_data = np.arange(intensity.shape[0])\n",
    "line_chart_3 = bq.Scatter(x=x_data, y=y_data, tooltip=def_tt3,scales= {'x': x_sc3, 'y': y_sc3},default_size=3)\n",
    "\n",
    "\n",
    "fig1 = bq.Figure(layout=Layout(width=\"500px\",height=\"300px\"),\n",
    "                axes=[x_ax, y_ax],\n",
    "                marks=[line_chart])\n",
    "fig2 = bq.Figure(layout=Layout(width=\"500px\",height=\"300px\"),\n",
    "                axes=[x_ax2, y_ax2],\n",
    "                marks=[line_chart_2])\n",
    "fig3 = bq.Figure(layout=Layout(width=\"500px\",height=\"300px\"),\n",
    "                axes=[x_ax3, y_ax3],\n",
    "                marks=[line_chart_3])\n",
    "wA1 = FloatSlider(\n",
    "value=0,min=-2,max=2,step=0.01,description=\"control 1:\",layout=Layout(width='490px',margin='0 0 5px 0')\n",
    ")\n",
    "wA2 = FloatSlider(\n",
    "value=0,min=-2,max=2,step=0.01,description=\"control 2:\",layout=Layout(width='490px',margin='0 0 5px 0')\n",
    ")\n",
    "\n",
    "# load color map\n",
    "color = np.zeros(1001)\n",
    "color[0:283] = 0\n",
    "color[283:283*2] = 1\n",
    "color[283*2:283*3] = 2\n",
    "color[283*3:1000] = 3\n",
    "color[-1]=4\n",
    "x_sc4 = bq.LinearScale()\n",
    "y_sc4 = bq.LinearScale()\n",
    "col_line = bq.ColorScale(colors=['green', 'white','black','blue','red'])\n",
    "\n",
    "x_ax4 = bq.Axis(label='1d', scale=x_sc4)\n",
    "y_ax4 = bq.Axis(label='2d', scale=y_sc4, orientation=\"vertical\")\n",
    "def_tt4 = bq.Tooltip(fields=['x','y'], formats=['.2f','.2f'])\n",
    "x_data = np.zeros(1001)\n",
    "y_data = np.zeros(1001)\n",
    "x_data[0:1000] = v1_array[:,0]\n",
    "y_data[0:1000] = v1_array[:,1]\n",
    "x_data[-1] = 1.5\n",
    "y_data[-1] = 1.5\n",
    "\n",
    "line_chart_4 = bq.Scatter(x=x_data, y=y_data, tooltip=def_tt4,scales= {'x': x_sc4, 'y': y_sc4,'color':col_line},color=color, default_size=3)\n",
    "fig4 = bq.Figure(layout=Layout(width=\"500px\",height=\"500px\"),\n",
    "                axes=[x_ax4, y_ax4],\n",
    "                marks=[line_chart_4])\n",
    "hb1 = HBox(children=(fig1,fig2))\n",
    "hb2 = HBox(children=(fig3,fig4))\n",
    "box = VBox(children=(hb1, hb2,wA1,wA2, au), layout=Layout(border=\"solid spx gray\",width=\"900px\"))"
   ]
  },
  {
   "cell_type": "code",
   "execution_count": 4,
   "metadata": {},
   "outputs": [],
   "source": [
    "def work():\n",
    "    old_w1 = 0\n",
    "    old_w2 = 0\n",
    "    while True:\n",
    "        if old_w1 != wA1.value or old_w2 != wA2.value:\n",
    "            _, _ , f0, mgc, bap = ps.parms_gen( wA1.value, wA2.value, 100, test_lin_x, test_lab_x, cmp_mean_vector, cmp_std_vector)\n",
    "            contents, intensity = ps.gen_wav(f0, mgc, bap)\n",
    "            \n",
    "            line_chart.x = np.arange(len(f0.flatten()))\n",
    "            line_chart.y = f0.flatten()\n",
    "            line_chart_2.y = mgc[:,0:5].T\n",
    "            line_chart_2.x = np.arange(mgc.shape[0])\n",
    "  \n",
    "            line_chart_3.y = intensity\n",
    "            line_chart_3.x = np.arange(intensity.shape[0])\n",
    "            line_chart_4.x = np.append(v1_array[:,0],wA1.value)\n",
    "            line_chart_4.y = np.append(v1_array[:,1],wA2.value)\n",
    "            \n",
    "            au.value = contents\n",
    "            old_w1 = wA1.value\n",
    "            old_w2 = wA2.value\n",
    "        "
   ]
  },
  {
   "cell_type": "code",
   "execution_count": 5,
   "metadata": {},
   "outputs": [
    {
     "data": {
      "application/vnd.jupyter.widget-view+json": {
       "model_id": "5b79451f40454a18b7edf267e0e94427",
       "version_major": 2,
       "version_minor": 0
      },
      "text/plain": [
       "VBox(children=(HBox(children=(Figure(axes=[Axis(label='time', scale=LinearScale(), side='bottom'), Axis(label=…"
      ]
     },
     "metadata": {},
     "output_type": "display_data"
    }
   ],
   "source": [
    "\n",
    "thread = threading.Thread(target=work)\n",
    "display(box)\n",
    "thread.start()"
   ]
  },
  {
   "cell_type": "code",
   "execution_count": null,
   "metadata": {},
   "outputs": [],
   "source": []
  }
 ],
 "metadata": {
  "kernelspec": {
   "display_name": "Python 3",
   "language": "python",
   "name": "python3"
  },
  "language_info": {
   "codemirror_mode": {
    "name": "ipython",
    "version": 3
   },
   "file_extension": ".py",
   "mimetype": "text/x-python",
   "name": "python",
   "nbconvert_exporter": "python",
   "pygments_lexer": "ipython3",
   "version": "3.6.9"
  }
 },
 "nbformat": 4,
 "nbformat_minor": 2
}
